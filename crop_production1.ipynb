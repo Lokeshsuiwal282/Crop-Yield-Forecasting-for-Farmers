{
 "cells": [
  {
   "cell_type": "code",
   "execution_count": 14,
   "metadata": {},
   "outputs": [],
   "source": [
    "import numpy as np\n",
    "import pandas as pd\n",
    "import matplotlib.pyplot as plt\n",
    "import seaborn as sns "
   ]
  },
  {
   "cell_type": "code",
   "execution_count": 152,
   "metadata": {},
   "outputs": [
    {
     "data": {
      "text/html": [
       "<div>\n",
       "<style scoped>\n",
       "    .dataframe tbody tr th:only-of-type {\n",
       "        vertical-align: middle;\n",
       "    }\n",
       "\n",
       "    .dataframe tbody tr th {\n",
       "        vertical-align: top;\n",
       "    }\n",
       "\n",
       "    .dataframe thead th {\n",
       "        text-align: right;\n",
       "    }\n",
       "</style>\n",
       "<table border=\"1\" class=\"dataframe\">\n",
       "  <thead>\n",
       "    <tr style=\"text-align: right;\">\n",
       "      <th></th>\n",
       "      <th>Unnamed: 0</th>\n",
       "      <th>State_Name</th>\n",
       "      <th>District_Name</th>\n",
       "      <th>Crop_Year</th>\n",
       "      <th>Season_Type</th>\n",
       "      <th>Crop_Name</th>\n",
       "      <th>Area</th>\n",
       "      <th>Production</th>\n",
       "    </tr>\n",
       "  </thead>\n",
       "  <tbody>\n",
       "    <tr>\n",
       "      <th>0</th>\n",
       "      <td>101</td>\n",
       "      <td>Andaman and Nicobar Islands</td>\n",
       "      <td>NICOBARS</td>\n",
       "      <td>2000</td>\n",
       "      <td>Kharif</td>\n",
       "      <td>Arecanut</td>\n",
       "      <td>1254.0</td>\n",
       "      <td>2000.0</td>\n",
       "    </tr>\n",
       "    <tr>\n",
       "      <th>1</th>\n",
       "      <td>102</td>\n",
       "      <td>Andaman and Nicobar Islands</td>\n",
       "      <td>NICOBARS</td>\n",
       "      <td>2000</td>\n",
       "      <td>Kharif</td>\n",
       "      <td>Other Kharif pulses</td>\n",
       "      <td>2.0</td>\n",
       "      <td>1.0</td>\n",
       "    </tr>\n",
       "    <tr>\n",
       "      <th>2</th>\n",
       "      <td>103</td>\n",
       "      <td>Andaman and Nicobar Islands</td>\n",
       "      <td>NICOBARS</td>\n",
       "      <td>2000</td>\n",
       "      <td>Kharif</td>\n",
       "      <td>Rice</td>\n",
       "      <td>102.0</td>\n",
       "      <td>321.0</td>\n",
       "    </tr>\n",
       "    <tr>\n",
       "      <th>3</th>\n",
       "      <td>104</td>\n",
       "      <td>Andaman and Nicobar Islands</td>\n",
       "      <td>NICOBARS</td>\n",
       "      <td>2000</td>\n",
       "      <td>Whole Year</td>\n",
       "      <td>Banana</td>\n",
       "      <td>176.0</td>\n",
       "      <td>641.0</td>\n",
       "    </tr>\n",
       "    <tr>\n",
       "      <th>4</th>\n",
       "      <td>105</td>\n",
       "      <td>Andaman and Nicobar Islands</td>\n",
       "      <td>NICOBARS</td>\n",
       "      <td>2000</td>\n",
       "      <td>Whole Year</td>\n",
       "      <td>Cashewnut</td>\n",
       "      <td>720.0</td>\n",
       "      <td>165.0</td>\n",
       "    </tr>\n",
       "  </tbody>\n",
       "</table>\n",
       "</div>"
      ],
      "text/plain": [
       "   Unnamed: 0                   State_Name District_Name  Crop_Year  \\\n",
       "0         101  Andaman and Nicobar Islands      NICOBARS       2000   \n",
       "1         102  Andaman and Nicobar Islands      NICOBARS       2000   \n",
       "2         103  Andaman and Nicobar Islands      NICOBARS       2000   \n",
       "3         104  Andaman and Nicobar Islands      NICOBARS       2000   \n",
       "4         105  Andaman and Nicobar Islands      NICOBARS       2000   \n",
       "\n",
       "   Season_Type            Crop_Name    Area  Production  \n",
       "0  Kharif                  Arecanut  1254.0      2000.0  \n",
       "1  Kharif       Other Kharif pulses     2.0         1.0  \n",
       "2  Kharif                      Rice   102.0       321.0  \n",
       "3  Whole Year                Banana   176.0       641.0  \n",
       "4  Whole Year             Cashewnut   720.0       165.0  "
      ]
     },
     "execution_count": 152,
     "metadata": {},
     "output_type": "execute_result"
    }
   ],
   "source": [
    "dataset = pd.read_csv('DataSet\\\\Crop_Production.csv')\n",
    "dataset.head()"
   ]
  },
  {
   "cell_type": "markdown",
   "metadata": {},
   "source": []
  },
  {
   "cell_type": "code",
   "execution_count": 153,
   "metadata": {},
   "outputs": [
    {
     "data": {
      "text/plain": [
       "Index(['Unnamed: 0', 'State_Name', 'District_Name', 'Crop_Year', 'Season_Type',\n",
       "       'Crop_Name', 'Area', 'Production'],\n",
       "      dtype='object')"
      ]
     },
     "execution_count": 153,
     "metadata": {},
     "output_type": "execute_result"
    }
   ],
   "source": [
    "dataset.columns"
   ]
  },
  {
   "cell_type": "code",
   "execution_count": 154,
   "metadata": {},
   "outputs": [
    {
     "data": {
      "text/html": [
       "<div>\n",
       "<style scoped>\n",
       "    .dataframe tbody tr th:only-of-type {\n",
       "        vertical-align: middle;\n",
       "    }\n",
       "\n",
       "    .dataframe tbody tr th {\n",
       "        vertical-align: top;\n",
       "    }\n",
       "\n",
       "    .dataframe thead th {\n",
       "        text-align: right;\n",
       "    }\n",
       "</style>\n",
       "<table border=\"1\" class=\"dataframe\">\n",
       "  <thead>\n",
       "    <tr style=\"text-align: right;\">\n",
       "      <th></th>\n",
       "      <th>State_Name</th>\n",
       "      <th>District_Name</th>\n",
       "      <th>Crop_Year</th>\n",
       "      <th>Season_Type</th>\n",
       "      <th>Crop_Name</th>\n",
       "      <th>Area</th>\n",
       "      <th>Production</th>\n",
       "    </tr>\n",
       "  </thead>\n",
       "  <tbody>\n",
       "    <tr>\n",
       "      <th>0</th>\n",
       "      <td>Andaman and Nicobar Islands</td>\n",
       "      <td>NICOBARS</td>\n",
       "      <td>2000</td>\n",
       "      <td>Kharif</td>\n",
       "      <td>Arecanut</td>\n",
       "      <td>1254.0</td>\n",
       "      <td>2000.0</td>\n",
       "    </tr>\n",
       "    <tr>\n",
       "      <th>1</th>\n",
       "      <td>Andaman and Nicobar Islands</td>\n",
       "      <td>NICOBARS</td>\n",
       "      <td>2000</td>\n",
       "      <td>Kharif</td>\n",
       "      <td>Other Kharif pulses</td>\n",
       "      <td>2.0</td>\n",
       "      <td>1.0</td>\n",
       "    </tr>\n",
       "    <tr>\n",
       "      <th>2</th>\n",
       "      <td>Andaman and Nicobar Islands</td>\n",
       "      <td>NICOBARS</td>\n",
       "      <td>2000</td>\n",
       "      <td>Kharif</td>\n",
       "      <td>Rice</td>\n",
       "      <td>102.0</td>\n",
       "      <td>321.0</td>\n",
       "    </tr>\n",
       "    <tr>\n",
       "      <th>3</th>\n",
       "      <td>Andaman and Nicobar Islands</td>\n",
       "      <td>NICOBARS</td>\n",
       "      <td>2000</td>\n",
       "      <td>Whole Year</td>\n",
       "      <td>Banana</td>\n",
       "      <td>176.0</td>\n",
       "      <td>641.0</td>\n",
       "    </tr>\n",
       "    <tr>\n",
       "      <th>4</th>\n",
       "      <td>Andaman and Nicobar Islands</td>\n",
       "      <td>NICOBARS</td>\n",
       "      <td>2000</td>\n",
       "      <td>Whole Year</td>\n",
       "      <td>Cashewnut</td>\n",
       "      <td>720.0</td>\n",
       "      <td>165.0</td>\n",
       "    </tr>\n",
       "  </tbody>\n",
       "</table>\n",
       "</div>"
      ],
      "text/plain": [
       "                    State_Name District_Name  Crop_Year  Season_Type  \\\n",
       "0  Andaman and Nicobar Islands      NICOBARS       2000  Kharif        \n",
       "1  Andaman and Nicobar Islands      NICOBARS       2000  Kharif        \n",
       "2  Andaman and Nicobar Islands      NICOBARS       2000  Kharif        \n",
       "3  Andaman and Nicobar Islands      NICOBARS       2000  Whole Year    \n",
       "4  Andaman and Nicobar Islands      NICOBARS       2000  Whole Year    \n",
       "\n",
       "             Crop_Name    Area  Production  \n",
       "0             Arecanut  1254.0      2000.0  \n",
       "1  Other Kharif pulses     2.0         1.0  \n",
       "2                 Rice   102.0       321.0  \n",
       "3               Banana   176.0       641.0  \n",
       "4            Cashewnut   720.0       165.0  "
      ]
     },
     "execution_count": 154,
     "metadata": {},
     "output_type": "execute_result"
    }
   ],
   "source": [
    "dataset.drop('Unnamed: 0', axis=1,inplace=True)\n",
    "dataset.head()"
   ]
  },
  {
   "cell_type": "code",
   "execution_count": 155,
   "metadata": {},
   "outputs": [
    {
     "data": {
      "text/plain": [
       "(246091, 7)"
      ]
     },
     "execution_count": 155,
     "metadata": {},
     "output_type": "execute_result"
    }
   ],
   "source": [
    "dataset.shape"
   ]
  },
  {
   "cell_type": "code",
   "execution_count": 156,
   "metadata": {},
   "outputs": [
    {
     "data": {
      "text/plain": [
       "State_Name          0\n",
       "District_Name       0\n",
       "Crop_Year           0\n",
       "Season_Type         0\n",
       "Crop_Name           0\n",
       "Area                0\n",
       "Production       3730\n",
       "dtype: int64"
      ]
     },
     "execution_count": 156,
     "metadata": {},
     "output_type": "execute_result"
    }
   ],
   "source": [
    "dataset.isnull().sum()"
   ]
  },
  {
   "cell_type": "code",
   "execution_count": 157,
   "metadata": {},
   "outputs": [],
   "source": [
    "# dataset.dropna(subset=['Production'], inplace=True)\n"
   ]
  },
  {
   "cell_type": "code",
   "execution_count": 158,
   "metadata": {},
   "outputs": [],
   "source": [
    "mean_production = dataset['Production'].mean()\n",
    "dataset['Production'].fillna(mean_production, inplace=True)\n"
   ]
  },
  {
   "cell_type": "code",
   "execution_count": 159,
   "metadata": {},
   "outputs": [
    {
     "data": {
      "text/plain": [
       "State_Name       0\n",
       "District_Name    0\n",
       "Crop_Year        0\n",
       "Season_Type      0\n",
       "Crop_Name        0\n",
       "Area             0\n",
       "Production       0\n",
       "dtype: int64"
      ]
     },
     "execution_count": 159,
     "metadata": {},
     "output_type": "execute_result"
    }
   ],
   "source": [
    "dataset.isnull().sum()\n"
   ]
  },
  {
   "cell_type": "code",
   "execution_count": 160,
   "metadata": {},
   "outputs": [
    {
     "data": {
      "text/plain": [
       "Index(['State_Name', 'District_Name', 'Crop_Year', 'Season_Type', 'Crop_Name',\n",
       "       'Area', 'Production'],\n",
       "      dtype='object')"
      ]
     },
     "execution_count": 160,
     "metadata": {},
     "output_type": "execute_result"
    }
   ],
   "source": [
    "dataset.columns"
   ]
  },
  {
   "cell_type": "code",
   "execution_count": 161,
   "metadata": {},
   "outputs": [
    {
     "data": {
      "text/plain": [
       "0"
      ]
     },
     "execution_count": 161,
     "metadata": {},
     "output_type": "execute_result"
    }
   ],
   "source": [
    "dataset.duplicated().sum()"
   ]
  },
  {
   "cell_type": "code",
   "execution_count": 162,
   "metadata": {},
   "outputs": [
    {
     "data": {
      "text/html": [
       "<div>\n",
       "<style scoped>\n",
       "    .dataframe tbody tr th:only-of-type {\n",
       "        vertical-align: middle;\n",
       "    }\n",
       "\n",
       "    .dataframe tbody tr th {\n",
       "        vertical-align: top;\n",
       "    }\n",
       "\n",
       "    .dataframe thead th {\n",
       "        text-align: right;\n",
       "    }\n",
       "</style>\n",
       "<table border=\"1\" class=\"dataframe\">\n",
       "  <thead>\n",
       "    <tr style=\"text-align: right;\">\n",
       "      <th></th>\n",
       "      <th>Crop_Year</th>\n",
       "      <th>Area</th>\n",
       "      <th>Production</th>\n",
       "    </tr>\n",
       "  </thead>\n",
       "  <tbody>\n",
       "    <tr>\n",
       "      <th>count</th>\n",
       "      <td>246091.000000</td>\n",
       "      <td>2.460910e+05</td>\n",
       "      <td>2.460910e+05</td>\n",
       "    </tr>\n",
       "    <tr>\n",
       "      <th>mean</th>\n",
       "      <td>2005.643018</td>\n",
       "      <td>1.200282e+04</td>\n",
       "      <td>5.825034e+05</td>\n",
       "    </tr>\n",
       "    <tr>\n",
       "      <th>std</th>\n",
       "      <td>4.952164</td>\n",
       "      <td>5.052340e+04</td>\n",
       "      <td>1.693599e+07</td>\n",
       "    </tr>\n",
       "    <tr>\n",
       "      <th>min</th>\n",
       "      <td>1997.000000</td>\n",
       "      <td>4.000000e-02</td>\n",
       "      <td>0.000000e+00</td>\n",
       "    </tr>\n",
       "    <tr>\n",
       "      <th>25%</th>\n",
       "      <td>2002.000000</td>\n",
       "      <td>8.000000e+01</td>\n",
       "      <td>9.100000e+01</td>\n",
       "    </tr>\n",
       "    <tr>\n",
       "      <th>50%</th>\n",
       "      <td>2006.000000</td>\n",
       "      <td>5.820000e+02</td>\n",
       "      <td>7.880000e+02</td>\n",
       "    </tr>\n",
       "    <tr>\n",
       "      <th>75%</th>\n",
       "      <td>2010.000000</td>\n",
       "      <td>4.392000e+03</td>\n",
       "      <td>8.000000e+03</td>\n",
       "    </tr>\n",
       "    <tr>\n",
       "      <th>max</th>\n",
       "      <td>2015.000000</td>\n",
       "      <td>8.580100e+06</td>\n",
       "      <td>1.250800e+09</td>\n",
       "    </tr>\n",
       "  </tbody>\n",
       "</table>\n",
       "</div>"
      ],
      "text/plain": [
       "           Crop_Year          Area    Production\n",
       "count  246091.000000  2.460910e+05  2.460910e+05\n",
       "mean     2005.643018  1.200282e+04  5.825034e+05\n",
       "std         4.952164  5.052340e+04  1.693599e+07\n",
       "min      1997.000000  4.000000e-02  0.000000e+00\n",
       "25%      2002.000000  8.000000e+01  9.100000e+01\n",
       "50%      2006.000000  5.820000e+02  7.880000e+02\n",
       "75%      2010.000000  4.392000e+03  8.000000e+03\n",
       "max      2015.000000  8.580100e+06  1.250800e+09"
      ]
     },
     "execution_count": 162,
     "metadata": {},
     "output_type": "execute_result"
    }
   ],
   "source": [
    "dataset.describe()"
   ]
  },
  {
   "cell_type": "code",
   "execution_count": 163,
   "metadata": {},
   "outputs": [
    {
     "data": {
      "text/plain": [
       "<Axes: xlabel='count', ylabel='State_Name'>"
      ]
     },
     "execution_count": 163,
     "metadata": {},
     "output_type": "execute_result"
    },
    {
     "data": {
      "image/png": "[encoded data removed]",
      "text/plain": [
       "<Figure size 1000x2000 with 1 Axes>"
      ]
     },
     "metadata": {},
     "output_type": "display_data"
    }
   ],
   "source": [
    "import matplotlib.pyplot as plt\n",
    "\n",
    "plt.figure(figsize=(10,20))\n",
    "sns.countplot(y = dataset['State_Name'])"
   ]
  },
  {
   "cell_type": "code",
   "execution_count": 164,
   "metadata": {},
   "outputs": [
    {
     "data": {
      "text/plain": [
       "33"
      ]
     },
     "execution_count": 164,
     "metadata": {},
     "output_type": "execute_result"
    }
   ],
   "source": [
    "len(dataset['State_Name'].unique())"
   ]
  },
  {
   "cell_type": "code",
   "execution_count": 165,
   "metadata": {},
   "outputs": [],
   "source": [
    "state = (dataset['State_Name'].unique())"
   ]
  },
  {
   "cell_type": "code",
   "execution_count": null,
   "metadata": {},
   "outputs": [],
   "source": []
  },
  {
   "cell_type": "code",
   "execution_count": 166,
   "metadata": {},
   "outputs": [],
   "source": [
    "yield_per_state = []\n",
    "for sta in state:\n",
    "   yield_per_state.append(dataset[dataset['State_Name'] == sta]['Area'].sum()) "
   ]
  },
  {
   "cell_type": "code",
   "execution_count": 167,
   "metadata": {},
   "outputs": [
    {
     "data": {
      "text/plain": [
       "0           1254.0\n",
       "1              2.0\n",
       "2            102.0\n",
       "3            176.0\n",
       "4            720.0\n",
       "            ...   \n",
       "246086       306.0\n",
       "246087       627.0\n",
       "246088       324.0\n",
       "246089    279151.0\n",
       "246090       175.0\n",
       "Name: Area, Length: 246091, dtype: float64"
      ]
     },
     "execution_count": 167,
     "metadata": {},
     "output_type": "execute_result"
    }
   ],
   "source": [
    "dataset['Area']"
   ]
  },
  {
   "cell_type": "code",
   "execution_count": 168,
   "metadata": {},
   "outputs": [
    {
     "data": {
      "text/plain": [
       "<Axes: >"
      ]
     },
     "execution_count": 168,
     "metadata": {},
     "output_type": "execute_result"
    },
    {
     "data": {
      "image/png": "[encoded data removed]",
      "text/plain": [
       "<Figure size 1000x2000 with 1 Axes>"
      ]
     },
     "metadata": {},
     "output_type": "display_data"
    }
   ],
   "source": [
    "plt.figure(figsize=(10,20))\n",
    "sns.barplot(y = state, x = yield_per_state)"
   ]
  },
  {
   "cell_type": "code",
   "execution_count": 169,
   "metadata": {},
   "outputs": [
    {
     "data": {
      "text/plain": [
       "<Axes: xlabel='count', ylabel='Season_Type'>"
      ]
     },
     "execution_count": 169,
     "metadata": {},
     "output_type": "execute_result"
    },
    {
     "data": {
      "image/png": "[encoded data removed]",
      "text/plain": [
       "<Figure size 640x480 with 1 Axes>"
      ]
     },
     "metadata": {},
     "output_type": "display_data"
    }
   ],
   "source": [
    "sns.countplot(y = dataset['Season_Type'])"
   ]
  },
  {
   "cell_type": "code",
   "execution_count": 170,
   "metadata": {},
   "outputs": [
    {
     "data": {
      "text/plain": [
       "<Axes: xlabel='count', ylabel='Crop_Name'>"
      ]
     },
     "execution_count": 170,
     "metadata": {},
     "output_type": "execute_result"
    },
    {
     "data": {
      "image/png": "[encoded data removed]",
      "text/plain": [
       "<Figure size 640x480 with 1 Axes>"
      ]
     },
     "metadata": {},
     "output_type": "display_data"
    }
   ],
   "source": [
    "sns.countplot(y = dataset['Crop_Name'])"
   ]
  },
  {
   "cell_type": "code",
   "execution_count": 171,
   "metadata": {},
   "outputs": [],
   "source": [
    "crops = (dataset['Crop_Name'].unique())"
   ]
  },
  {
   "cell_type": "code",
   "execution_count": 172,
   "metadata": {},
   "outputs": [],
   "source": [
    "yield_per_item = []\n",
    "for corp in crops:\n",
    "    yield_per_item.append(dataset[dataset['Crop_Name'] == corp]['Production'].sum())"
   ]
  },
  {
   "cell_type": "markdown",
   "metadata": {},
   "source": [
    "Train Test split Rearrnging Columns"
   ]
  },
  {
   "cell_type": "code",
   "execution_count": 173,
   "metadata": {},
   "outputs": [],
   "source": [
    "col = ['Crop_Year','State_Name', 'District_Name', 'Season_Type', 'Crop_Name','Area', 'Production']\n",
    "dataset = dataset[col]"
   ]
  },
  {
   "cell_type": "code",
   "execution_count": 174,
   "metadata": {},
   "outputs": [
    {
     "data": {
      "text/html": [
       "<div>\n",
       "<style scoped>\n",
       "    .dataframe tbody tr th:only-of-type {\n",
       "        vertical-align: middle;\n",
       "    }\n",
       "\n",
       "    .dataframe tbody tr th {\n",
       "        vertical-align: top;\n",
       "    }\n",
       "\n",
       "    .dataframe thead th {\n",
       "        text-align: right;\n",
       "    }\n",
       "</style>\n",
       "<table border=\"1\" class=\"dataframe\">\n",
       "  <thead>\n",
       "    <tr style=\"text-align: right;\">\n",
       "      <th></th>\n",
       "      <th>Crop_Year</th>\n",
       "      <th>State_Name</th>\n",
       "      <th>District_Name</th>\n",
       "      <th>Season_Type</th>\n",
       "      <th>Crop_Name</th>\n",
       "      <th>Area</th>\n",
       "      <th>Production</th>\n",
       "    </tr>\n",
       "  </thead>\n",
       "  <tbody>\n",
       "    <tr>\n",
       "      <th>0</th>\n",
       "      <td>2000</td>\n",
       "      <td>Andaman and Nicobar Islands</td>\n",
       "      <td>NICOBARS</td>\n",
       "      <td>Kharif</td>\n",
       "      <td>Arecanut</td>\n",
       "      <td>1254.0</td>\n",
       "      <td>2000.0</td>\n",
       "    </tr>\n",
       "    <tr>\n",
       "      <th>1</th>\n",
       "      <td>2000</td>\n",
       "      <td>Andaman and Nicobar Islands</td>\n",
       "      <td>NICOBARS</td>\n",
       "      <td>Kharif</td>\n",
       "      <td>Other Kharif pulses</td>\n",
       "      <td>2.0</td>\n",
       "      <td>1.0</td>\n",
       "    </tr>\n",
       "  </tbody>\n",
       "</table>\n",
       "</div>"
      ],
      "text/plain": [
       "   Crop_Year                   State_Name District_Name  Season_Type  \\\n",
       "0       2000  Andaman and Nicobar Islands      NICOBARS  Kharif        \n",
       "1       2000  Andaman and Nicobar Islands      NICOBARS  Kharif        \n",
       "\n",
       "             Crop_Name    Area  Production  \n",
       "0             Arecanut  1254.0      2000.0  \n",
       "1  Other Kharif pulses     2.0         1.0  "
      ]
     },
     "execution_count": 174,
     "metadata": {},
     "output_type": "execute_result"
    }
   ],
   "source": [
    "dataset.head(2)"
   ]
  },
  {
   "cell_type": "code",
   "execution_count": 175,
   "metadata": {},
   "outputs": [],
   "source": [
    "x = dataset.drop('Production', axis=1)\n",
    "y = dataset['Production']\n"
   ]
  },
  {
   "cell_type": "code",
   "execution_count": 176,
   "metadata": {},
   "outputs": [],
   "source": [
    "from sklearn.model_selection import train_test_split"
   ]
  },
  {
   "cell_type": "code",
   "execution_count": 177,
   "metadata": {},
   "outputs": [],
   "source": [
    "x_train, x_test, y_train, y_text = train_test_split(x,y, test_size=0.2, random_state = 42)"
   ]
  },
  {
   "cell_type": "code",
   "execution_count": 178,
   "metadata": {},
   "outputs": [
    {
     "data": {
      "text/plain": [
       "(196872, 6)"
      ]
     },
     "execution_count": 178,
     "metadata": {},
     "output_type": "execute_result"
    }
   ],
   "source": [
    "x_train.shape"
   ]
  },
  {
   "cell_type": "code",
   "execution_count": 179,
   "metadata": {},
   "outputs": [
    {
     "data": {
      "text/plain": [
       "(49219, 6)"
      ]
     },
     "execution_count": 179,
     "metadata": {},
     "output_type": "execute_result"
    }
   ],
   "source": [
    "x_test.shape"
   ]
  },
  {
   "cell_type": "code",
   "execution_count": 180,
   "metadata": {},
   "outputs": [
    {
     "data": {
      "text/html": [
       "<div>\n",
       "<style scoped>\n",
       "    .dataframe tbody tr th:only-of-type {\n",
       "        vertical-align: middle;\n",
       "    }\n",
       "\n",
       "    .dataframe tbody tr th {\n",
       "        vertical-align: top;\n",
       "    }\n",
       "\n",
       "    .dataframe thead th {\n",
       "        text-align: right;\n",
       "    }\n",
       "</style>\n",
       "<table border=\"1\" class=\"dataframe\">\n",
       "  <thead>\n",
       "    <tr style=\"text-align: right;\">\n",
       "      <th></th>\n",
       "      <th>Crop_Year</th>\n",
       "      <th>State_Name</th>\n",
       "      <th>District_Name</th>\n",
       "      <th>Season_Type</th>\n",
       "      <th>Crop_Name</th>\n",
       "      <th>Area</th>\n",
       "    </tr>\n",
       "  </thead>\n",
       "  <tbody>\n",
       "    <tr>\n",
       "      <th>158364</th>\n",
       "      <td>2010</td>\n",
       "      <td>Odisha</td>\n",
       "      <td>PURI</td>\n",
       "      <td>Summer</td>\n",
       "      <td>Moong(Green Gram)</td>\n",
       "      <td>17811.0</td>\n",
       "    </tr>\n",
       "    <tr>\n",
       "      <th>81407</th>\n",
       "      <td>2009</td>\n",
       "      <td>Karnataka</td>\n",
       "      <td>BIDAR</td>\n",
       "      <td>Whole Year</td>\n",
       "      <td>Coconut</td>\n",
       "      <td>19.0</td>\n",
       "    </tr>\n",
       "    <tr>\n",
       "      <th>212014</th>\n",
       "      <td>2006</td>\n",
       "      <td>Uttar Pradesh</td>\n",
       "      <td>GHAZIPUR</td>\n",
       "      <td>Rabi</td>\n",
       "      <td>Onion</td>\n",
       "      <td>414.0</td>\n",
       "    </tr>\n",
       "    <tr>\n",
       "      <th>191160</th>\n",
       "      <td>2011</td>\n",
       "      <td>Tamil Nadu</td>\n",
       "      <td>VIRUDHUNAGAR</td>\n",
       "      <td>Whole Year</td>\n",
       "      <td>Sweet potato</td>\n",
       "      <td>22.0</td>\n",
       "    </tr>\n",
       "    <tr>\n",
       "      <th>170908</th>\n",
       "      <td>2004</td>\n",
       "      <td>Rajasthan</td>\n",
       "      <td>JAIPUR</td>\n",
       "      <td>Rabi</td>\n",
       "      <td>Other  Rabi pulses</td>\n",
       "      <td>8879.0</td>\n",
       "    </tr>\n",
       "    <tr>\n",
       "      <th>...</th>\n",
       "      <td>...</td>\n",
       "      <td>...</td>\n",
       "      <td>...</td>\n",
       "      <td>...</td>\n",
       "      <td>...</td>\n",
       "      <td>...</td>\n",
       "    </tr>\n",
       "    <tr>\n",
       "      <th>119879</th>\n",
       "      <td>1998</td>\n",
       "      <td>Madhya Pradesh</td>\n",
       "      <td>SEHORE</td>\n",
       "      <td>Rabi</td>\n",
       "      <td>Gram</td>\n",
       "      <td>92100.0</td>\n",
       "    </tr>\n",
       "    <tr>\n",
       "      <th>103694</th>\n",
       "      <td>1999</td>\n",
       "      <td>Madhya Pradesh</td>\n",
       "      <td>BARWANI</td>\n",
       "      <td>Whole Year</td>\n",
       "      <td>Onion</td>\n",
       "      <td>609.0</td>\n",
       "    </tr>\n",
       "    <tr>\n",
       "      <th>131932</th>\n",
       "      <td>2002</td>\n",
       "      <td>Maharashtra</td>\n",
       "      <td>NANDED</td>\n",
       "      <td>Rabi</td>\n",
       "      <td>Maize</td>\n",
       "      <td>800.0</td>\n",
       "    </tr>\n",
       "    <tr>\n",
       "      <th>146867</th>\n",
       "      <td>1999</td>\n",
       "      <td>Odisha</td>\n",
       "      <td>ANUGUL</td>\n",
       "      <td>Kharif</td>\n",
       "      <td>Castor seed</td>\n",
       "      <td>220.0</td>\n",
       "    </tr>\n",
       "    <tr>\n",
       "      <th>121958</th>\n",
       "      <td>2003</td>\n",
       "      <td>Madhya Pradesh</td>\n",
       "      <td>SHEOPUR</td>\n",
       "      <td>Whole Year</td>\n",
       "      <td>Tomato</td>\n",
       "      <td>258.0</td>\n",
       "    </tr>\n",
       "  </tbody>\n",
       "</table>\n",
       "<p>196872 rows × 6 columns</p>\n",
       "</div>"
      ],
      "text/plain": [
       "        Crop_Year      State_Name District_Name  Season_Type  \\\n",
       "158364       2010          Odisha          PURI  Summer        \n",
       "81407        2009       Karnataka         BIDAR  Whole Year    \n",
       "212014       2006   Uttar Pradesh      GHAZIPUR  Rabi          \n",
       "191160       2011      Tamil Nadu  VIRUDHUNAGAR  Whole Year    \n",
       "170908       2004       Rajasthan        JAIPUR  Rabi          \n",
       "...           ...             ...           ...          ...   \n",
       "119879       1998  Madhya Pradesh        SEHORE  Rabi          \n",
       "103694       1999  Madhya Pradesh       BARWANI  Whole Year    \n",
       "131932       2002     Maharashtra        NANDED  Rabi          \n",
       "146867       1999          Odisha        ANUGUL  Kharif        \n",
       "121958       2003  Madhya Pradesh       SHEOPUR  Whole Year    \n",
       "\n",
       "                 Crop_Name     Area  \n",
       "158364   Moong(Green Gram)  17811.0  \n",
       "81407             Coconut      19.0  \n",
       "212014               Onion    414.0  \n",
       "191160        Sweet potato     22.0  \n",
       "170908  Other  Rabi pulses   8879.0  \n",
       "...                    ...      ...  \n",
       "119879                Gram  92100.0  \n",
       "103694               Onion    609.0  \n",
       "131932               Maize    800.0  \n",
       "146867         Castor seed    220.0  \n",
       "121958              Tomato    258.0  \n",
       "\n",
       "[196872 rows x 6 columns]"
      ]
     },
     "execution_count": 180,
     "metadata": {},
     "output_type": "execute_result"
    }
   ],
   "source": [
    "x_train"
   ]
  },
  {
   "cell_type": "markdown",
   "metadata": {},
   "source": [
    "Converting categorical to numerical and scaling the values"
   ]
  },
  {
   "cell_type": "code",
   "execution_count": 181,
   "metadata": {},
   "outputs": [],
   "source": [
    "import pandas as pd\n",
    "from sklearn.preprocessing import LabelEncoder"
   ]
  },
  {
   "cell_type": "code",
   "execution_count": 182,
   "metadata": {},
   "outputs": [],
   "source": [
    "# categorical cols\n",
    "# state_dict = list(dataset['State_Name']\n",
    "state_dict = {name.strip(): i for i, name in enumerate(sorted(dataset['State_Name'].unique()))}\n",
    "district_dict = {name.strip(): i for i, name in enumerate(sorted(dataset['District_Name'].unique()))}\n",
    "season_dict = {name.strip(): i for i, name in enumerate(sorted(dataset['Season_Type'].unique()))}\n",
    "crop_dict = {name.strip(): i for i, name in enumerate(sorted(dataset['Crop_Name'].unique()))}\n",
    "\n"
   ]
  },
  {
   "cell_type": "code",
   "execution_count": 183,
   "metadata": {},
   "outputs": [],
   "source": [
    "# from sklearn.preprocessing import LabelEncoder\n",
    "\n",
    "# # Sample data\n",
    "# data = dataset['State_Name']\n",
    "\n",
    "# # Initialize the LabelEncoder\n",
    "# label_encoder = LabelEncoder()\n",
    "\n",
    "# # Fit the encoder on the data and transform the data\n",
    "# encoded_data = label_encoder.fit_transform(data)\n",
    "\n",
    "# # Replace the 'State_Name' column in the original dataset with the encoded data\n",
    "# dataset['State_Name'] = encoded_data\n",
    "\n",
    "# # Now, the 'State_Name' column in the dataset contains numerical representations of the original categorical data\n",
    "# print(dataset)\n",
    "\n"
   ]
  },
  {
   "cell_type": "code",
   "execution_count": 184,
   "metadata": {},
   "outputs": [],
   "source": [
    "# dataset"
   ]
  },
  {
   "cell_type": "code",
   "execution_count": 185,
   "metadata": {},
   "outputs": [],
   "source": [
    "# from sklearn.preprocessing import LabelEncoder\n",
    "\n",
    "# # Sample data\n",
    "# data = dataset['District_Name']\n",
    "\n",
    "# # Initialize the LabelEncoder\n",
    "# label_encoder = LabelEncoder()\n",
    "\n",
    "# # Fit the encoder on the data and transform the data\n",
    "# encoded_data = label_encoder.fit_transform(data)\n",
    "\n",
    "# # Replace the 'State_Name' column in the original dataset with the encoded data\n",
    "# dataset['District_Name'] = encoded_data\n",
    "\n",
    "# # Now, the 'State_Name' column in the dataset contains numerical representations of the original categorical data\n",
    "# print(dataset)\n",
    "\n"
   ]
  },
  {
   "cell_type": "code",
   "execution_count": 186,
   "metadata": {},
   "outputs": [],
   "source": [
    "# from sklearn.preprocessing import LabelEncoder\n",
    "\n",
    "# # Sample data\n",
    "# data = dataset['Season_Type']\n",
    "\n",
    "# # Initialize the LabelEncoder\n",
    "# label_encoder = LabelEncoder()\n",
    "\n",
    "# # Fit the encoder on the data and transform the data\n",
    "# encoded_data = label_encoder.fit_transform(data)\n",
    "\n",
    "# # Replace the 'State_Name' column in the original dataset with the encoded data\n",
    "# dataset['Season_Type'] = encoded_data\n",
    "\n",
    "# # Now, the 'State_Name' column in the dataset contains numerical representations of the original categorical data\n",
    "# print(dataset)\n"
   ]
  },
  {
   "cell_type": "code",
   "execution_count": 187,
   "metadata": {},
   "outputs": [],
   "source": [
    "# from sklearn.preprocessing import LabelEncoder\n",
    "\n",
    "# # Sample data\n",
    "# data = dataset['Crop_Name']\n",
    "\n",
    "# # Initialize the LabelEncoder\n",
    "# label_encoder = LabelEncoder()\n",
    "\n",
    "# # Fit the encoder on the data and transform the data\n",
    "# encoded_data = label_encoder.fit_transform(data)\n",
    "\n",
    "# # Replace the 'State_Name' column in the original dataset with the encoded data\n",
    "# dataset['Crop_Name'] = encoded_data\n",
    "\n",
    "# # Now, the 'State_Name' column in the dataset contains numerical representations of the original categorical data\n",
    "# print(dataset)\n"
   ]
  },
  {
   "cell_type": "code",
   "execution_count": 188,
   "metadata": {},
   "outputs": [],
   "source": [
    "# dataset['State_Name'].replace(state_dict, inplace=True)\n",
    "# dataset['District_Name'].replace(district_dict, inplace=True)\n",
    "dataset['Season_Type'].replace(season_dict, inplace=True)\n",
    "dataset['Crop_Name'].replace(crop_dict, inplace=True)"
   ]
  },
  {
   "cell_type": "code",
   "execution_count": 136,
   "metadata": {},
   "outputs": [
    {
     "data": {
      "text/html": [
       "<div>\n",
       "<style scoped>\n",
       "    .dataframe tbody tr th:only-of-type {\n",
       "        vertical-align: middle;\n",
       "    }\n",
       "\n",
       "    .dataframe tbody tr th {\n",
       "        vertical-align: top;\n",
       "    }\n",
       "\n",
       "    .dataframe thead th {\n",
       "        text-align: right;\n",
       "    }\n",
       "</style>\n",
       "<table border=\"1\" class=\"dataframe\">\n",
       "  <thead>\n",
       "    <tr style=\"text-align: right;\">\n",
       "      <th></th>\n",
       "      <th>Crop_Year</th>\n",
       "      <th>State_Name</th>\n",
       "      <th>District_Name</th>\n",
       "      <th>Season_Type</th>\n",
       "      <th>Crop_Name</th>\n",
       "      <th>Area</th>\n",
       "      <th>Production</th>\n",
       "    </tr>\n",
       "  </thead>\n",
       "  <tbody>\n",
       "    <tr>\n",
       "      <th>0</th>\n",
       "      <td>2000</td>\n",
       "      <td>0</td>\n",
       "      <td>427</td>\n",
       "      <td>1</td>\n",
       "      <td>2</td>\n",
       "      <td>1254.0</td>\n",
       "      <td>2000.0</td>\n",
       "    </tr>\n",
       "    <tr>\n",
       "      <th>1</th>\n",
       "      <td>2000</td>\n",
       "      <td>0</td>\n",
       "      <td>427</td>\n",
       "      <td>1</td>\n",
       "      <td>74</td>\n",
       "      <td>2.0</td>\n",
       "      <td>1.0</td>\n",
       "    </tr>\n",
       "    <tr>\n",
       "      <th>2</th>\n",
       "      <td>2000</td>\n",
       "      <td>0</td>\n",
       "      <td>427</td>\n",
       "      <td>1</td>\n",
       "      <td>95</td>\n",
       "      <td>102.0</td>\n",
       "      <td>321.0</td>\n",
       "    </tr>\n",
       "    <tr>\n",
       "      <th>3</th>\n",
       "      <td>2000</td>\n",
       "      <td>0</td>\n",
       "      <td>427</td>\n",
       "      <td>4</td>\n",
       "      <td>7</td>\n",
       "      <td>176.0</td>\n",
       "      <td>641.0</td>\n",
       "    </tr>\n",
       "    <tr>\n",
       "      <th>4</th>\n",
       "      <td>2000</td>\n",
       "      <td>0</td>\n",
       "      <td>427</td>\n",
       "      <td>4</td>\n",
       "      <td>22</td>\n",
       "      <td>720.0</td>\n",
       "      <td>165.0</td>\n",
       "    </tr>\n",
       "    <tr>\n",
       "      <th>5</th>\n",
       "      <td>2000</td>\n",
       "      <td>0</td>\n",
       "      <td>427</td>\n",
       "      <td>4</td>\n",
       "      <td>28</td>\n",
       "      <td>18168.0</td>\n",
       "      <td>65100000.0</td>\n",
       "    </tr>\n",
       "    <tr>\n",
       "      <th>6</th>\n",
       "      <td>2000</td>\n",
       "      <td>0</td>\n",
       "      <td>427</td>\n",
       "      <td>4</td>\n",
       "      <td>38</td>\n",
       "      <td>36.0</td>\n",
       "      <td>100.0</td>\n",
       "    </tr>\n",
       "    <tr>\n",
       "      <th>7</th>\n",
       "      <td>2000</td>\n",
       "      <td>0</td>\n",
       "      <td>427</td>\n",
       "      <td>4</td>\n",
       "      <td>106</td>\n",
       "      <td>1.0</td>\n",
       "      <td>2.0</td>\n",
       "    </tr>\n",
       "    <tr>\n",
       "      <th>8</th>\n",
       "      <td>2000</td>\n",
       "      <td>0</td>\n",
       "      <td>427</td>\n",
       "      <td>4</td>\n",
       "      <td>108</td>\n",
       "      <td>5.0</td>\n",
       "      <td>15.0</td>\n",
       "    </tr>\n",
       "    <tr>\n",
       "      <th>9</th>\n",
       "      <td>2000</td>\n",
       "      <td>0</td>\n",
       "      <td>427</td>\n",
       "      <td>4</td>\n",
       "      <td>109</td>\n",
       "      <td>40.0</td>\n",
       "      <td>169.0</td>\n",
       "    </tr>\n",
       "  </tbody>\n",
       "</table>\n",
       "</div>"
      ],
      "text/plain": [
       "   Crop_Year  State_Name  District_Name  Season_Type  Crop_Name     Area  \\\n",
       "0       2000           0            427            1          2   1254.0   \n",
       "1       2000           0            427            1         74      2.0   \n",
       "2       2000           0            427            1         95    102.0   \n",
       "3       2000           0            427            4          7    176.0   \n",
       "4       2000           0            427            4         22    720.0   \n",
       "5       2000           0            427            4         28  18168.0   \n",
       "6       2000           0            427            4         38     36.0   \n",
       "7       2000           0            427            4        106      1.0   \n",
       "8       2000           0            427            4        108      5.0   \n",
       "9       2000           0            427            4        109     40.0   \n",
       "\n",
       "   Production  \n",
       "0      2000.0  \n",
       "1         1.0  \n",
       "2       321.0  \n",
       "3       641.0  \n",
       "4       165.0  \n",
       "5  65100000.0  \n",
       "6       100.0  \n",
       "7         2.0  \n",
       "8        15.0  \n",
       "9       169.0  "
      ]
     },
     "execution_count": 136,
     "metadata": {},
     "output_type": "execute_result"
    }
   ],
   "source": [
    "dataset.head(10)"
   ]
  },
  {
   "cell_type": "code",
   "execution_count": 138,
   "metadata": {},
   "outputs": [],
   "source": [
    "from sklearn.model_selection import train_test_split\n",
    "\n",
    "# Assuming you have a DataFrame called 'dataset' with features (independent variables) and a target variable 'y'\n",
    "\n",
    "# Split the data into features (X) and the target variable (y)\n",
    "X = dataset.drop(columns=['Production'])  # Features\n",
    "y = dataset['Production']  # Target variable\n",
    "\n",
    "# Split the data into training and testing sets (adjust the test_size as needed)\n",
    "x_train_dummy, x_test_dummy, y_train, y_test = train_test_split(X, y, test_size=0.2, random_state=42)\n",
    "\n",
    "# Now, x_train_dummy and x_test_dummy contain your feature data for training and testing, respectively, and y_train and y_test contain the corresponding target values.\n"
   ]
  },
  {
   "cell_type": "markdown",
   "metadata": {},
   "source": [
    "Training Models"
   ]
  },
  {
   "cell_type": "code",
   "execution_count": 139,
   "metadata": {},
   "outputs": [
    {
     "name": "stdout",
     "output_type": "stream",
     "text": [
      "lr MSE: 159139344687504.84, Score: 0.002664272515386479\n",
      "lss MSE: 159139344098944.94, Score: 0.0026642762039262857\n",
      "rg MSE: 159139342944438.44, Score: 0.0026642834392871517\n",
      "knr MSE: 196581782788965.22, Score: -0.23198971148866887\n",
      "dtr MSE: 69587945508654.38, Score: 0.5638882113388346\n"
     ]
    }
   ],
   "source": [
    "from sklearn.linear_model import LinearRegression, Lasso, Ridge\n",
    "from sklearn.neighbors import KNeighborsRegressor\n",
    "from sklearn.tree import DecisionTreeRegressor\n",
    "from sklearn.metrics import mean_squared_error, r2_score\n",
    "\n",
    "# Assuming you have already split your data into training and testing sets as x_train_dummy, y_train, x_test_dummy, y_test\n",
    "\n",
    "models = {\n",
    "    'lr': LinearRegression(),\n",
    "    'lss': Lasso(),\n",
    "    'rg': Ridge(),\n",
    "    'knr': KNeighborsRegressor(),\n",
    "    'dtr': DecisionTreeRegressor()\n",
    "}\n",
    "\n",
    "for name, model in models.items():\n",
    "    model.fit(x_train_dummy, y_train)\n",
    "    y_pred = model.predict(x_test_dummy)\n",
    "\n",
    "    mse = mean_squared_error(y_test, y_pred)\n",
    "    r2 = r2_score(y_test, y_pred)\n",
    "    print(f\"{name} MSE: {mse}, Score: {r2}\")\n"
   ]
  },
  {
   "cell_type": "code",
   "execution_count": 149,
   "metadata": {},
   "outputs": [
    {
     "data": {
      "text/plain": [
       "1"
      ]
     },
     "execution_count": 149,
     "metadata": {},
     "output_type": "execute_result"
    }
   ],
   "source": [
    "season_dict['Kharif     ']"
   ]
  },
  {
   "cell_type": "code",
   "execution_count": 140,
   "metadata": {},
   "outputs": [
    {
     "data": {
      "text/html": [
       "<div>\n",
       "<style scoped>\n",
       "    .dataframe tbody tr th:only-of-type {\n",
       "        vertical-align: middle;\n",
       "    }\n",
       "\n",
       "    .dataframe tbody tr th {\n",
       "        vertical-align: top;\n",
       "    }\n",
       "\n",
       "    .dataframe thead th {\n",
       "        text-align: right;\n",
       "    }\n",
       "</style>\n",
       "<table border=\"1\" class=\"dataframe\">\n",
       "  <thead>\n",
       "    <tr style=\"text-align: right;\">\n",
       "      <th></th>\n",
       "      <th>Crop_Year</th>\n",
       "      <th>State_Name</th>\n",
       "      <th>District_Name</th>\n",
       "      <th>Season_Type</th>\n",
       "      <th>Crop_Name</th>\n",
       "      <th>Area</th>\n",
       "      <th>Production</th>\n",
       "    </tr>\n",
       "  </thead>\n",
       "  <tbody>\n",
       "    <tr>\n",
       "      <th>0</th>\n",
       "      <td>2000</td>\n",
       "      <td>0</td>\n",
       "      <td>427</td>\n",
       "      <td>1</td>\n",
       "      <td>2</td>\n",
       "      <td>1254.0</td>\n",
       "      <td>2000.0</td>\n",
       "    </tr>\n",
       "  </tbody>\n",
       "</table>\n",
       "</div>"
      ],
      "text/plain": [
       "   Crop_Year  State_Name  District_Name  Season_Type  Crop_Name    Area  \\\n",
       "0       2000           0            427            1          2  1254.0   \n",
       "\n",
       "   Production  \n",
       "0      2000.0  "
      ]
     },
     "execution_count": 140,
     "metadata": {},
     "output_type": "execute_result"
    }
   ],
   "source": [
    "dataset.head(1)"
   ]
  },
  {
   "cell_type": "code",
   "execution_count": 141,
   "metadata": {},
   "outputs": [
    {
     "data": {
      "text/html": [
       "<div>\n",
       "<style scoped>\n",
       "    .dataframe tbody tr th:only-of-type {\n",
       "        vertical-align: middle;\n",
       "    }\n",
       "\n",
       "    .dataframe tbody tr th {\n",
       "        vertical-align: top;\n",
       "    }\n",
       "\n",
       "    .dataframe thead th {\n",
       "        text-align: right;\n",
       "    }\n",
       "</style>\n",
       "<table border=\"1\" class=\"dataframe\">\n",
       "  <thead>\n",
       "    <tr style=\"text-align: right;\">\n",
       "      <th></th>\n",
       "      <th>Crop_Year</th>\n",
       "      <th>State_Name</th>\n",
       "      <th>District_Name</th>\n",
       "      <th>Season_Type</th>\n",
       "      <th>Crop_Name</th>\n",
       "      <th>Area</th>\n",
       "    </tr>\n",
       "  </thead>\n",
       "  <tbody>\n",
       "    <tr>\n",
       "      <th>158364</th>\n",
       "      <td>2010</td>\n",
       "      <td>22</td>\n",
       "      <td>469</td>\n",
       "      <td>3</td>\n",
       "      <td>63</td>\n",
       "      <td>17811.0</td>\n",
       "    </tr>\n",
       "    <tr>\n",
       "      <th>81407</th>\n",
       "      <td>2009</td>\n",
       "      <td>14</td>\n",
       "      <td>87</td>\n",
       "      <td>4</td>\n",
       "      <td>28</td>\n",
       "      <td>19.0</td>\n",
       "    </tr>\n",
       "    <tr>\n",
       "      <th>212014</th>\n",
       "      <td>2006</td>\n",
       "      <td>30</td>\n",
       "      <td>204</td>\n",
       "      <td>2</td>\n",
       "      <td>67</td>\n",
       "      <td>414.0</td>\n",
       "    </tr>\n",
       "    <tr>\n",
       "      <th>191160</th>\n",
       "      <td>2011</td>\n",
       "      <td>27</td>\n",
       "      <td>624</td>\n",
       "      <td>4</td>\n",
       "      <td>108</td>\n",
       "      <td>22.0</td>\n",
       "    </tr>\n",
       "    <tr>\n",
       "      <th>170908</th>\n",
       "      <td>2004</td>\n",
       "      <td>25</td>\n",
       "      <td>245</td>\n",
       "      <td>2</td>\n",
       "      <td>69</td>\n",
       "      <td>8879.0</td>\n",
       "    </tr>\n",
       "    <tr>\n",
       "      <th>...</th>\n",
       "      <td>...</td>\n",
       "      <td>...</td>\n",
       "      <td>...</td>\n",
       "      <td>...</td>\n",
       "      <td>...</td>\n",
       "      <td>...</td>\n",
       "    </tr>\n",
       "    <tr>\n",
       "      <th>119879</th>\n",
       "      <td>1998</td>\n",
       "      <td>16</td>\n",
       "      <td>522</td>\n",
       "      <td>2</td>\n",
       "      <td>41</td>\n",
       "      <td>92100.0</td>\n",
       "    </tr>\n",
       "    <tr>\n",
       "      <th>103694</th>\n",
       "      <td>1999</td>\n",
       "      <td>16</td>\n",
       "      <td>65</td>\n",
       "      <td>4</td>\n",
       "      <td>67</td>\n",
       "      <td>609.0</td>\n",
       "    </tr>\n",
       "    <tr>\n",
       "      <th>131932</th>\n",
       "      <td>2002</td>\n",
       "      <td>17</td>\n",
       "      <td>416</td>\n",
       "      <td>2</td>\n",
       "      <td>59</td>\n",
       "      <td>800.0</td>\n",
       "    </tr>\n",
       "    <tr>\n",
       "      <th>146867</th>\n",
       "      <td>1999</td>\n",
       "      <td>22</td>\n",
       "      <td>27</td>\n",
       "      <td>1</td>\n",
       "      <td>25</td>\n",
       "      <td>220.0</td>\n",
       "    </tr>\n",
       "    <tr>\n",
       "      <th>121958</th>\n",
       "      <td>2003</td>\n",
       "      <td>16</td>\n",
       "      <td>533</td>\n",
       "      <td>4</td>\n",
       "      <td>112</td>\n",
       "      <td>258.0</td>\n",
       "    </tr>\n",
       "  </tbody>\n",
       "</table>\n",
       "<p>196872 rows × 6 columns</p>\n",
       "</div>"
      ],
      "text/plain": [
       "        Crop_Year  State_Name  District_Name  Season_Type  Crop_Name     Area\n",
       "158364       2010          22            469            3         63  17811.0\n",
       "81407        2009          14             87            4         28     19.0\n",
       "212014       2006          30            204            2         67    414.0\n",
       "191160       2011          27            624            4        108     22.0\n",
       "170908       2004          25            245            2         69   8879.0\n",
       "...           ...         ...            ...          ...        ...      ...\n",
       "119879       1998          16            522            2         41  92100.0\n",
       "103694       1999          16             65            4         67    609.0\n",
       "131932       2002          17            416            2         59    800.0\n",
       "146867       1999          22             27            1         25    220.0\n",
       "121958       2003          16            533            4        112    258.0\n",
       "\n",
       "[196872 rows x 6 columns]"
      ]
     },
     "execution_count": 141,
     "metadata": {},
     "output_type": "execute_result"
    }
   ],
   "source": [
    "x_train_dummy\n"
   ]
  },
  {
   "cell_type": "markdown",
   "metadata": {},
   "source": [
    "select Model:-"
   ]
  },
  {
   "cell_type": "code",
   "execution_count": 142,
   "metadata": {},
   "outputs": [
    {
     "name": "stdout",
     "output_type": "stream",
     "text": [
      "Predicted Production: 1200.0\n"
     ]
    }
   ],
   "source": [
    "from sklearn.tree import DecisionTreeRegressor\n",
    "from sklearn.preprocessing import LabelEncoder\n",
    "\n",
    "# Sample data for encoding demonstration\n",
    "data = pd.DataFrame({\n",
    "    'Crop_Year': [2000],\n",
    "    'State_Name': ['Andaman and Nicobar Islands'],\n",
    "    'District_Name': ['NICOBARS'],\n",
    "    'Season_Type': ['Kharif'],\n",
    "    'Crop_Name': ['Arecanut'],\n",
    "    'Area': [1254.0],\n",
    "    'Production': [2000.0]\n",
    "})\n",
    "\n",
    "# Create a label encoder for categorical variables\n",
    "encoder = LabelEncoder()\n",
    "\n",
    "# Fit and transform the categorical columns\n",
    "data['State_Name'] = encoder.fit_transform(data['State_Name'])\n",
    "data['District_Name'] = encoder.fit_transform(data['District_Name'])\n",
    "data['Season_Type'] = encoder.fit_transform(data['Season_Type'])\n",
    "data['Crop_Name'] = encoder.fit_transform(data['Crop_Name'])\n",
    "\n",
    "# Model training - replace this with your own model training step\n",
    "dtr_model = DecisionTreeRegressor()\n",
    "dtr_model.fit(x_train_dummy, y_train)  # Replace with your actual training data\n",
    "\n",
    "# Function for prediction\n",
    "def prediction(features, model):\n",
    "    predicted_value = model.predict(features)\n",
    "    return predicted_value[0]\n",
    "\n",
    "# Call the prediction function with encoded features\n",
    "encoded_features = data[['Crop_Year', 'State_Name', 'District_Name', 'Season_Type', 'Crop_Name', 'Area']]\n",
    "result = prediction(encoded_features, dtr_model)\n",
    "\n",
    "print(f\"Predicted Production: {result}\")\n"
   ]
  },
  {
   "cell_type": "code",
   "execution_count": 143,
   "metadata": {},
   "outputs": [],
   "source": [
    "import pickle\n",
    "pickle.dump(dtr_model, open('dtr.pkl', 'wb'))"
   ]
  },
  {
   "cell_type": "code",
   "execution_count": 189,
   "metadata": {},
   "outputs": [],
   "source": [
    "pickle.dump(state_dict, open('state.pkl', 'wb'))\n",
    "pickle.dump(district_dict, open('district.pkl', 'wb'))\n",
    "pickle.dump(season_dict, open('season.pkl', 'wb'))\n",
    "pickle.dump(crop_dict, open('crop.pkl', 'wb'))"
   ]
  },
  {
   "cell_type": "code",
   "execution_count": 145,
   "metadata": {},
   "outputs": [],
   "source": [
    "with open('state.pkl', 'rb') as f:\n",
    "    hh = pickle.load(f)"
   ]
  },
  {
   "cell_type": "code",
   "execution_count": 83,
   "metadata": {},
   "outputs": [],
   "source": [
    "import pickle\n",
    "\n",
    "# Assuming you have already trained your DecisionTreeRegressor model (dtr_model)\n",
    "\n",
    "# Save the model to a file using pickle\n",
    "with open('dtr.pkl', 'wb') as file:\n",
    "    pickle.dump(dtr_model, file)\n"
   ]
  },
  {
   "cell_type": "code",
   "execution_count": 84,
   "metadata": {},
   "outputs": [
    {
     "name": "stdout",
     "output_type": "stream",
     "text": [
      "Predicted Production using the loaded model: 1200.0\n"
     ]
    }
   ],
   "source": [
    "import pickle\n",
    "\n",
    "# Load the model from the file\n",
    "with open('dtr.pkl', 'rb') as file:\n",
    "    loaded_model = pickle.load(file)\n",
    "\n",
    "# Now, you can use the loaded model for predictions\n",
    "result = loaded_model.predict(encoded_features)\n",
    "print(f\"Predicted Production using the loaded model: {result[0]}\")\n"
   ]
  },
  {
   "cell_type": "code",
   "execution_count": 85,
   "metadata": {},
   "outputs": [
    {
     "data": {
      "text/html": [
       "<div>\n",
       "<style scoped>\n",
       "    .dataframe tbody tr th:only-of-type {\n",
       "        vertical-align: middle;\n",
       "    }\n",
       "\n",
       "    .dataframe tbody tr th {\n",
       "        vertical-align: top;\n",
       "    }\n",
       "\n",
       "    .dataframe thead th {\n",
       "        text-align: right;\n",
       "    }\n",
       "</style>\n",
       "<table border=\"1\" class=\"dataframe\">\n",
       "  <thead>\n",
       "    <tr style=\"text-align: right;\">\n",
       "      <th></th>\n",
       "      <th>Crop_Year</th>\n",
       "      <th>State_Name</th>\n",
       "      <th>District_Name</th>\n",
       "      <th>Season_Type</th>\n",
       "      <th>Crop_Name</th>\n",
       "      <th>Area</th>\n",
       "    </tr>\n",
       "  </thead>\n",
       "  <tbody>\n",
       "    <tr>\n",
       "      <th>158364</th>\n",
       "      <td>2010</td>\n",
       "      <td>Odisha</td>\n",
       "      <td>PURI</td>\n",
       "      <td>Summer</td>\n",
       "      <td>Moong(Green Gram)</td>\n",
       "      <td>17811.0</td>\n",
       "    </tr>\n",
       "    <tr>\n",
       "      <th>81407</th>\n",
       "      <td>2009</td>\n",
       "      <td>Karnataka</td>\n",
       "      <td>BIDAR</td>\n",
       "      <td>Whole Year</td>\n",
       "      <td>Coconut</td>\n",
       "      <td>19.0</td>\n",
       "    </tr>\n",
       "    <tr>\n",
       "      <th>212014</th>\n",
       "      <td>2006</td>\n",
       "      <td>Uttar Pradesh</td>\n",
       "      <td>GHAZIPUR</td>\n",
       "      <td>Rabi</td>\n",
       "      <td>Onion</td>\n",
       "      <td>414.0</td>\n",
       "    </tr>\n",
       "    <tr>\n",
       "      <th>191160</th>\n",
       "      <td>2011</td>\n",
       "      <td>Tamil Nadu</td>\n",
       "      <td>VIRUDHUNAGAR</td>\n",
       "      <td>Whole Year</td>\n",
       "      <td>Sweet potato</td>\n",
       "      <td>22.0</td>\n",
       "    </tr>\n",
       "    <tr>\n",
       "      <th>170908</th>\n",
       "      <td>2004</td>\n",
       "      <td>Rajasthan</td>\n",
       "      <td>JAIPUR</td>\n",
       "      <td>Rabi</td>\n",
       "      <td>Other  Rabi pulses</td>\n",
       "      <td>8879.0</td>\n",
       "    </tr>\n",
       "    <tr>\n",
       "      <th>...</th>\n",
       "      <td>...</td>\n",
       "      <td>...</td>\n",
       "      <td>...</td>\n",
       "      <td>...</td>\n",
       "      <td>...</td>\n",
       "      <td>...</td>\n",
       "    </tr>\n",
       "    <tr>\n",
       "      <th>119879</th>\n",
       "      <td>1998</td>\n",
       "      <td>Madhya Pradesh</td>\n",
       "      <td>SEHORE</td>\n",
       "      <td>Rabi</td>\n",
       "      <td>Gram</td>\n",
       "      <td>92100.0</td>\n",
       "    </tr>\n",
       "    <tr>\n",
       "      <th>103694</th>\n",
       "      <td>1999</td>\n",
       "      <td>Madhya Pradesh</td>\n",
       "      <td>BARWANI</td>\n",
       "      <td>Whole Year</td>\n",
       "      <td>Onion</td>\n",
       "      <td>609.0</td>\n",
       "    </tr>\n",
       "    <tr>\n",
       "      <th>131932</th>\n",
       "      <td>2002</td>\n",
       "      <td>Maharashtra</td>\n",
       "      <td>NANDED</td>\n",
       "      <td>Rabi</td>\n",
       "      <td>Maize</td>\n",
       "      <td>800.0</td>\n",
       "    </tr>\n",
       "    <tr>\n",
       "      <th>146867</th>\n",
       "      <td>1999</td>\n",
       "      <td>Odisha</td>\n",
       "      <td>ANUGUL</td>\n",
       "      <td>Kharif</td>\n",
       "      <td>Castor seed</td>\n",
       "      <td>220.0</td>\n",
       "    </tr>\n",
       "    <tr>\n",
       "      <th>121958</th>\n",
       "      <td>2003</td>\n",
       "      <td>Madhya Pradesh</td>\n",
       "      <td>SHEOPUR</td>\n",
       "      <td>Whole Year</td>\n",
       "      <td>Tomato</td>\n",
       "      <td>258.0</td>\n",
       "    </tr>\n",
       "  </tbody>\n",
       "</table>\n",
       "<p>196872 rows × 6 columns</p>\n",
       "</div>"
      ],
      "text/plain": [
       "        Crop_Year      State_Name District_Name  Season_Type  \\\n",
       "158364       2010          Odisha          PURI  Summer        \n",
       "81407        2009       Karnataka         BIDAR  Whole Year    \n",
       "212014       2006   Uttar Pradesh      GHAZIPUR  Rabi          \n",
       "191160       2011      Tamil Nadu  VIRUDHUNAGAR  Whole Year    \n",
       "170908       2004       Rajasthan        JAIPUR  Rabi          \n",
       "...           ...             ...           ...          ...   \n",
       "119879       1998  Madhya Pradesh        SEHORE  Rabi          \n",
       "103694       1999  Madhya Pradesh       BARWANI  Whole Year    \n",
       "131932       2002     Maharashtra        NANDED  Rabi          \n",
       "146867       1999          Odisha        ANUGUL  Kharif        \n",
       "121958       2003  Madhya Pradesh       SHEOPUR  Whole Year    \n",
       "\n",
       "                 Crop_Name     Area  \n",
       "158364   Moong(Green Gram)  17811.0  \n",
       "81407             Coconut      19.0  \n",
       "212014               Onion    414.0  \n",
       "191160        Sweet potato     22.0  \n",
       "170908  Other  Rabi pulses   8879.0  \n",
       "...                    ...      ...  \n",
       "119879                Gram  92100.0  \n",
       "103694               Onion    609.0  \n",
       "131932               Maize    800.0  \n",
       "146867         Castor seed    220.0  \n",
       "121958              Tomato    258.0  \n",
       "\n",
       "[196872 rows x 6 columns]"
      ]
     },
     "execution_count": 85,
     "metadata": {},
     "output_type": "execute_result"
    }
   ],
   "source": [
    "x_train"
   ]
  },
  {
   "cell_type": "code",
   "execution_count": 1,
   "metadata": {},
   "outputs": [
    {
     "name": "stdout",
     "output_type": "stream",
     "text": [
      "1.3.1\n"
     ]
    }
   ],
   "source": [
    "import sklearn\n",
    "print(sklearn.__version__)"
   ]
  }
 ],
 "metadata": {
  "kernelspec": {
   "display_name": "Python 3",
   "language": "python",
   "name": "python3"
  },
  "language_info": {
   "codemirror_mode": {
    "name": "ipython",
    "version": 3
   },
   "file_extension": ".py",
   "mimetype": "text/x-python",
   "name": "python",
   "nbconvert_exporter": "python",
   "pygments_lexer": "ipython3",
   "version": "3.11.4"
  }
 },
 "nbformat": 4,
 "nbformat_minor": 2
}
